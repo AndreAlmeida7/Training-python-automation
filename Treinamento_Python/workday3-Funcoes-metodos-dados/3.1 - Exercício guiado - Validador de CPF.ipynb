{
 "cells": [
  {
   "cell_type": "markdown",
   "metadata": {},
   "source": [
    "#### Enunciado - Validar de CPF"
   ]
  },
  {
   "cell_type": "code",
   "execution_count": null,
   "metadata": {},
   "outputs": [],
   "source": [
    "\"\"\"\n",
    "Calculo do primeiro dígito e segundo dígito do CPF\n",
    "CPF: 746.824.890-70\n",
    "Colete a soma dos 9 primeiros dígitos do CPF\n",
    "multiplicando cada um dos valores por uma\n",
    "contagem regressiva começando de 10\n",
    "\n",
    "Ex.:  746.824.890-70 (746824890)\n",
    "   10  9  8  7  6  5  4  3  2\n",
    "*  7   4  6  8  2  4  8  9  0\n",
    "   70  36 48 56 12 20 32 27 0\n",
    "\n",
    "Somar todos os resultados: \n",
    "70+36+48+56+12+20+32+27+0 = 301\n",
    "Multiplicar o resultado anterior por 10\n",
    "301 * 10 = 3010\n",
    "Obter o resto da divisão da conta anterior por 11\n",
    "3010 % 11 = 7\n",
    "Se o resultado anterior for maior que 9:\n",
    "    resultado é 0\n",
    "contrário disso:\n",
    "    resultado é o valor da conta\n",
    "O primeiro dígito do CPF é 7\n",
    "\n",
    "\"\"\""
   ]
  },
  {
   "cell_type": "markdown",
   "metadata": {},
   "source": [
    "### Resolução Validador de CPF"
   ]
  },
  {
   "cell_type": "code",
   "execution_count": null,
   "metadata": {},
   "outputs": [],
   "source": [
    "cpf_sem_tratamento = input('Digite um CPF: ')\n",
    "\n",
    "cpf_digitado_pelo_usuario = cpf_sem_tratamento.replace('.' ,'').replace('-','')\n",
    "\n",
    "tamanho = cpf_digitado_pelo_usuario[0] * len(cpf_digitado_pelo_usuario)\n",
    "\n",
    "if tamanho == cpf_digitado_pelo_usuario:\n",
    "    print('Seu cpf é um monte de número repetido')\n",
    "else: \n",
    "    regressao_1 = (10,9,8,7,6,5,4,3,2)\n",
    "    regressao_2 = (11,10,9,8,7,6,5,4,3,2)\n",
    "\n",
    "    i_1 = 0\n",
    "    i_2 = 0\n",
    "    soma_1 = 0\n",
    "    soma_2 = 0\n",
    "\n",
    "    for c_1 in cpf_digitado_pelo_usuario[:-2]:\n",
    "        c_int_1 = int(c_1)\n",
    "        contagem_1 = c_int_1 * regressao_1[i_1]\n",
    "        i_1 = i_1 + 1\n",
    "        soma_1 = soma_1 + contagem_1\n",
    "        \n",
    "\n",
    "    multiplicacao_1 = soma_1 * 10\n",
    "\n",
    "    resto_1 = multiplicacao_1 % 11\n",
    "\n",
    "    digito_1 = resto_1 if resto_1 <= 9 else 0\n",
    "\n",
    "\n",
    "\n",
    "    for c_2 in cpf_digitado_pelo_usuario[:-1]:\n",
    "        c_int_2 = int(c_2)\n",
    "        contagem_2 = c_int_2 * regressao_2[i_2]\n",
    "        i_2 = i_2 + 1\n",
    "        soma_2 = soma_2 + contagem_2\n",
    "\n",
    "    multiplicacao_2 = soma_2 * 10\n",
    "\n",
    "    resto_2 = multiplicacao_2 % 11\n",
    "\n",
    "    digito_2 = resto_2 if resto_2 <= 9 else 0\n",
    "\n",
    "    print(f'O 1º dígito do seu CPF é {digito_1}')\n",
    "    print(f'O 2º dígito do seu CPF é {digito_2}')"
   ]
  }
 ],
 "metadata": {
  "language_info": {
   "name": "python"
  }
 },
 "nbformat": 4,
 "nbformat_minor": 2
}
