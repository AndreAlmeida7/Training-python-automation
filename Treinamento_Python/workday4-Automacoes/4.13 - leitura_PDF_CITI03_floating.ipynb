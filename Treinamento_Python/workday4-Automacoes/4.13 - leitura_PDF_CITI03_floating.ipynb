{
 "cells": [
  {
   "cell_type": "code",
   "execution_count": 3,
   "metadata": {},
   "outputs": [],
   "source": [
    "import os\n",
    "import tabula\n",
    "\n",
    "#diretório que está o PDF\n",
    "diretorio_arquivo = r'C:\\Users\\U003659\\Desktop'\n",
    "\n",
    "#Percorre todos os arquivos na pasta especificada\n",
    "for name_file in os.listdir(diretorio_arquivo):\n",
    "    # Se o nome do arquivo for pdf e 'Citi 03' está no nome do arquivo, fará a leitura do arquivo especificado\n",
    "    if name_file.endswith('.pdf') and 'Citi 03' in name_file:\n",
    "        df = tabula.read_pdf(os.path.join(diretorio_arquivo, name_file), pages='all')\n",
    "\n",
    "# Criação de variável da conta scrow que corresponde ao PDF\n",
    "conta_scrow = 'CITI 03'\n",
    "\n",
    "# Selecionando a tabela com informações (tabela nº 3)\n",
    "tabela1 = df[2]\n",
    "\n",
    "# Deslocando a linha 1 da tabela para se tornar o cabeçalho\n",
    "tabela1.columns = tabela1.iloc[0]\n",
    "tabela1 = tabela1[1:]\n",
    "\n",
    "# Excluindo linha 2 da tabela\n",
    "tabela1 = tabela1.drop(tabela1.index[0]) \n",
    "\n",
    "# Dicionário com os novos nomes das colunas\n",
    "novos_nomes = {\n",
    "    tabela1.columns[-14]: 'Número da Operação',\n",
    "    tabela1.columns[-1]: 'Valor Líquido (BRL)',\n",
    "    tabela1.columns[-9]: 'Data Liquidação',\n",
    "    tabela1.columns[-8]: 'Data Vencimento',\n",
    "    tabela1.columns[-7]: 'Indexador',\n",
    "    tabela1.columns[-6]: 'Preço Unitário Corrigido (BRL)',\n",
    "    tabela1.columns[-5]: 'Quantidade de Títulos Liquidados',\n",
    "    tabela1.columns[-4]: 'Valor Bruto (BRL)',\n",
    "    tabela1.columns[-3]: 'IOF (BRL)',\n",
    "    tabela1.columns[-2]: 'Imposto de Renda Retido na Fonte (BRL)'\n",
    "}\n",
    "\n",
    "# Renomeando as colunas\n",
    "tabela1 = tabela1.rename(columns=novos_nomes)\n",
    "\n",
    "# Adicionar a coluna 'Conta Citi' com o valor de conta_scrow\n",
    "tabela1['Conta Citi'] = conta_scrow\n",
    "\n",
    "# Identificar o índice da última linha válida\n",
    "penultimo_indice = tabela1.index[-3]\n",
    "\n",
    "# Manter apenas as linhas até o penúltimo índice (informação relevante)\n",
    "tabela1 = tabela1.loc[:penultimo_indice]\n",
    "\n",
    "# Salvar os dados em um arquivo Excel\n",
    "tabela1.to_excel('dados_extraidos.xlsx', index=False)"
   ]
  }
 ],
 "metadata": {
  "kernelspec": {
   "display_name": "Python 3",
   "language": "python",
   "name": "python3"
  },
  "language_info": {
   "codemirror_mode": {
    "name": "ipython",
    "version": 3
   },
   "file_extension": ".py",
   "mimetype": "text/x-python",
   "name": "python",
   "nbconvert_exporter": "python",
   "pygments_lexer": "ipython3",
   "version": "3.11.2"
  }
 },
 "nbformat": 4,
 "nbformat_minor": 2
}
