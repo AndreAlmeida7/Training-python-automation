{
 "cells": [
  {
   "cell_type": "markdown",
   "metadata": {},
   "source": [
    "### COMEÇANDO OS TRABALHOS COM VARIÁVEIS"
   ]
  },
  {
   "cell_type": "code",
   "execution_count": null,
   "metadata": {},
   "outputs": [],
   "source": [
    "'''\n",
    "Varáveis são usadas para salvar algo na memória do computador. \n",
    "PEP8: inicie variáveis com letras minúsculas. Podendo ser números e underline.\n",
    "O sinal de = é o operador de atribuição. Ele é usado para atribuir um valor a uma variável\n",
    "\n",
    "Exemplo:\n",
    "nome_variável = expressão\n",
    "\n",
    "Variáveis não são feitas para abreviar o código, mas sim deixá-lo mais legível.\n",
    "\n",
    "'''\n",
    "\n",
    "nome_completo = 'André Luiz Rodrigues de Almeida'\n",
    "soma = 2+2\n",
    "print(nome_completo, soma)\n",
    "\n",
    "# nome = 'André'\n",
    "# idade = 25\n",
    "# print('Nome:', nome, 'Idade', idade)"
   ]
  },
  {
   "cell_type": "code",
   "execution_count": null,
   "metadata": {},
   "outputs": [],
   "source": [
    "# Atribuindo o valor 1 à variável var_teste\n",
    "var_teste = 1"
   ]
  },
  {
   "cell_type": "code",
   "execution_count": null,
   "metadata": {},
   "outputs": [],
   "source": [
    "# Imprimindo o valor da variável\n",
    "var_teste"
   ]
  },
  {
   "cell_type": "code",
   "execution_count": null,
   "metadata": {},
   "outputs": [],
   "source": [
    "# Imprimindo o valor da variável\n",
    "print(var_teste)"
   ]
  },
  {
   "cell_type": "code",
   "execution_count": null,
   "metadata": {},
   "outputs": [],
   "source": [
    "# Não podemos utilizar uma variável que não foi definida. Leia a mensagem de erro.\n",
    "Var_teste_1"
   ]
  },
  {
   "cell_type": "code",
   "execution_count": null,
   "metadata": {},
   "outputs": [],
   "source": [
    "#Podemos mudar também os tipos de variáveis entre Float e Int\n",
    "type(var_teste)"
   ]
  },
  {
   "cell_type": "markdown",
   "metadata": {},
   "source": [
    "### Declaração Múltipla de variáveis"
   ]
  },
  {
   "cell_type": "code",
   "execution_count": null,
   "metadata": {},
   "outputs": [],
   "source": [
    "pessoa1, pessoa2, pessoa3 = \"Bob\", \"Maria\", \"Ana\""
   ]
  },
  {
   "cell_type": "code",
   "execution_count": null,
   "metadata": {},
   "outputs": [],
   "source": [
    "print(pessoa1)\n",
    "\n",
    "print(pessoa2)\n",
    "\n",
    "print(pessoa3)"
   ]
  },
  {
   "cell_type": "code",
   "execution_count": null,
   "metadata": {},
   "outputs": [],
   "source": [
    "fruta1 = fruta2 = fruta3 = 'laranja'"
   ]
  },
  {
   "cell_type": "code",
   "execution_count": null,
   "metadata": {},
   "outputs": [],
   "source": [
    "fruta1"
   ]
  },
  {
   "cell_type": "code",
   "execution_count": null,
   "metadata": {},
   "outputs": [],
   "source": [
    "fruta2"
   ]
  },
  {
   "cell_type": "code",
   "execution_count": null,
   "metadata": {},
   "outputs": [],
   "source": [
    "# Fique atento!!! Python é case-sensitive. Criamos a variável fruta2, mas não a variável Fruta2.\n",
    "# Letras maiúsculas e minúsculas tem diferença no nome da variável.\n",
    "\n",
    "Fruta2"
   ]
  },
  {
   "cell_type": "markdown",
   "metadata": {},
   "source": [
    "### Variáveis podem usar letras, números, underline no nome da variável, mas não pode começar com número"
   ]
  },
  {
   "cell_type": "code",
   "execution_count": null,
   "metadata": {},
   "outputs": [],
   "source": [
    "x1 = 10"
   ]
  },
  {
   "cell_type": "code",
   "execution_count": null,
   "metadata": {},
   "outputs": [],
   "source": [
    "1x = 20"
   ]
  },
  {
   "cell_type": "markdown",
   "metadata": {},
   "source": [
    "### Operações com Variáveis e concatenações"
   ]
  },
  {
   "cell_type": "code",
   "execution_count": 5,
   "metadata": {},
   "outputs": [],
   "source": [
    "largura = 2\n",
    "\n",
    "altura = 3"
   ]
  },
  {
   "cell_type": "code",
   "execution_count": 7,
   "metadata": {},
   "outputs": [],
   "source": [
    "area = largura * altura"
   ]
  },
  {
   "cell_type": "code",
   "execution_count": 9,
   "metadata": {},
   "outputs": [
    {
     "name": "stdout",
     "output_type": "stream",
     "text": [
      "6\n"
     ]
    }
   ],
   "source": [
    "print(area)"
   ]
  },
  {
   "cell_type": "code",
   "execution_count": 10,
   "metadata": {},
   "outputs": [
    {
     "name": "stdout",
     "output_type": "stream",
     "text": [
      "André Luiz\n"
     ]
    }
   ],
   "source": [
    "nome = 'André'\n",
    "\n",
    "sobrenome = 'Luiz'\n",
    "\n",
    "full_name = nome + ' ' + sobrenome\n",
    "\n",
    "print(full_name)"
   ]
  },
  {
   "cell_type": "markdown",
   "metadata": {},
   "source": [
    "### Aplicação do conceito de Variáveis"
   ]
  },
  {
   "cell_type": "code",
   "execution_count": 2,
   "metadata": {},
   "outputs": [
    {
     "name": "stdout",
     "output_type": "stream",
     "text": [
      "Nome: André\n",
      "Sobrenome: Almeida\n",
      "Idade: 23\n",
      "Ano de nascimento: 1999\n",
      "É maior de idade? True\n",
      "Altura em metros: 1.8 m\n"
     ]
    }
   ],
   "source": [
    "nome = 'André'\n",
    "sobrenome = 'Almeida'\n",
    "idade = 23\n",
    "ano_nascimento = 1999\n",
    "maior_de_idade = idade >= 18\n",
    "altura_metros = 1.80\n",
    "\n",
    "print('Nome:', nome)\n",
    "print('Sobrenome:', sobrenome)\n",
    "print('Idade:', idade)\n",
    "print('Ano de nascimento:', ano_nascimento)\n",
    "print('É maior de idade?', maior_de_idade)\n",
    "print('Altura em metros:', altura_metros, 'm')"
   ]
  },
  {
   "cell_type": "code",
   "execution_count": null,
   "metadata": {},
   "outputs": [],
   "source": [
    "'''\n",
    "Formatação de string: exemplos\n",
    "o prefixo 'f' faz com que habilite a colocação de variáveis dentro de outra variável;\n",
    "Basta envolvê-las entre chaves.\n",
    "\n",
    "Além disso, é possível limitar as casas decimais, basta colocar ' :nf '\n",
    "sendo n o número de casas decimais a serem mostradas.\n",
    "\n",
    "Caso queira um separador de casas decimais, basta colocar uma vírgula após os :\n",
    "' :,.nf '\n",
    "\n",
    "'''\n",
    "\n",
    "nome = 'André'\n",
    "altura = 1.80564864684684\n",
    "peso = 95\n",
    "imc = peso / (altura ** 2)\n",
    "\n",
    "\"f-strings\"\n",
    "linha_1 = f'{nome} tem {altura:,.5f} m de altura,'\n",
    "linha_2 = f'pesa {peso} quilos e seu imc é de'\n",
    "linha_3 = f'{imc:.3f}'\n",
    "\n",
    "\n",
    "print(linha_1)\n",
    "print(linha_2)\n",
    "print(linha_3)"
   ]
  }
 ],
 "metadata": {
  "kernelspec": {
   "display_name": "Python 3",
   "language": "python",
   "name": "python3"
  },
  "language_info": {
   "codemirror_mode": {
    "name": "ipython",
    "version": 3
   },
   "file_extension": ".py",
   "mimetype": "text/x-python",
   "name": "python",
   "nbconvert_exporter": "python",
   "pygments_lexer": "ipython3",
   "version": "3.12.5"
  }
 },
 "nbformat": 4,
 "nbformat_minor": 2
}
