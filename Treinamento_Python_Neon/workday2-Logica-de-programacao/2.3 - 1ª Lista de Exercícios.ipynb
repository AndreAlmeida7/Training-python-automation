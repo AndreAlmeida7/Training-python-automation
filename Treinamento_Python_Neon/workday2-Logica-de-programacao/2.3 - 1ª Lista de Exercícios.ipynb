{
 "cells": [
  {
   "cell_type": "markdown",
   "metadata": {},
   "source": [
    "## Lista de exercícios "
   ]
  },
  {
   "cell_type": "code",
   "execution_count": null,
   "metadata": {},
   "outputs": [],
   "source": [
    "# Exercício 1\n",
    "\n",
    "# Calculadora em Python\n",
    "# Desenvolva uma calculadora em Python com tudo que você aprendeu nos capítulos até aqui no curso. \n",
    "# A solução será apresentada no próximo capítulo!\n",
    "\n",
    "print(\"******************* Calculadora em Python *******************\")"
   ]
  },
  {
   "cell_type": "code",
   "execution_count": null,
   "metadata": {},
   "outputs": [],
   "source": [
    "#Exercício 2\n",
    "\n",
    "'''\n",
    "Escreva um programa que solicite ao usuário um número inteiro positivo e \n",
    "faça uma contagem regressiva desse número até zero, exibindo cada número na tela.\n",
    "'''"
   ]
  },
  {
   "cell_type": "code",
   "execution_count": null,
   "metadata": {},
   "outputs": [],
   "source": [
    "#Exercício 3\n",
    "\n",
    "'''Escreva um programa que solicite ao usuário um número inteiro e exiba a tabuada desse número de 1 a 10.'''"
   ]
  },
  {
   "cell_type": "code",
   "execution_count": 3,
   "metadata": {},
   "outputs": [],
   "source": [
    "#Exercício 4\n",
    "\n",
    "'''\n",
    "Escreva um programa que solicite ao usuário uma quantidade de números a serem inseridos.\n",
    "Leia esses números e calcule a média deles.\n",
    "'''"
   ]
  },
  {
   "cell_type": "code",
   "execution_count": null,
   "metadata": {},
   "outputs": [],
   "source": [
    "#Exercício 5\n",
    "\n",
    "'''\n",
    "Faça um jogo para o usuário adivinhar qual a palavra secreta.\n",
    "Você vai propor uma palavra secreta qualquer e irá dar a possibilidade para o usuário digitar apenas uma letra.\n",
    "Quanto o usuário digitar uma letra, você vai conferir se a letra digitada está na palavra secreta.\n",
    "\n",
    "Se a letra digitada estiver na palavra secreta; exiba a letra;\n",
    "Se a letra digitada não estiver na palavra secreta; exiba *.\n",
    "\n",
    "Faça a contagem de tentativas do seu usuário.\n",
    "Se o usuário digitar várias letras peça a ele digitar apenas uma letra.\n",
    "\n",
    "'''"
   ]
  },
  {
   "cell_type": "code",
   "execution_count": null,
   "metadata": {},
   "outputs": [],
   "source": [
    "#Exercício 6 \n",
    "\n",
    "'''\n",
    "Faça um programa que peça ao usuário para digitar um número inteiro,\n",
    "informe se este número é par ou ímpar. Caso o usuário não digite um número\n",
    "inteiro, informe que não é um número inteiro.\n",
    "\n",
    "par -> é divisível por 2 -> resto da divisão por 2 é zero. \n",
    "\n",
    "'''"
   ]
  },
  {
   "cell_type": "code",
   "execution_count": null,
   "metadata": {},
   "outputs": [],
   "source": [
    "#Exercício 7\n",
    "\n",
    "'''\n",
    "Exercício\n",
    "peça ao usuário para digitar seu nome\n",
    "Peça ao usuário digitar sua idade\n",
    "Se nome e idade forem digitados:\n",
    "    Exiba:\n",
    "        Seu nome é {nome}\n",
    "        Seu nome contém (ou não) espaços\n",
    "        Seu nome tem {n} letras\n",
    "        A primeira letra do seu nome é {letra}\n",
    "        A última letra do seu nome é {letra}\n",
    "Se nada for digitado em nome ou idade:\n",
    "\n",
    "exiba \" Desculpe, você deixou campos vazios.\"\n",
    "\n",
    "'''"
   ]
  },
  {
   "cell_type": "code",
   "execution_count": null,
   "metadata": {},
   "outputs": [],
   "source": [
    "#Exercício 8\n",
    "\n",
    "\"\"\"\n",
    "Faça um programa que pergunte a hora ao usuário e, baseando-se no horário \n",
    "descrito, exiba a saudação apropriada. Ex. \n",
    "Bom dia 0-11, Boa tarde 12-17 e Boa noite 18-23.\n",
    "\n",
    "\"\"\""
   ]
  }
 ],
 "metadata": {
  "kernelspec": {
   "display_name": "Python 3",
   "language": "python",
   "name": "python3"
  },
  "language_info": {
   "codemirror_mode": {
    "name": "ipython",
    "version": 3
   },
   "file_extension": ".py",
   "mimetype": "text/x-python",
   "name": "python",
   "nbconvert_exporter": "python",
   "pygments_lexer": "ipython3",
   "version": "3.12.5"
  }
 },
 "nbformat": 4,
 "nbformat_minor": 2
}
