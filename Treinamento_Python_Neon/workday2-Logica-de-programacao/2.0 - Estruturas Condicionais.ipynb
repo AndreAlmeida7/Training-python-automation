{
 "cells": [
  {
   "cell_type": "markdown",
   "metadata": {},
   "source": [
    "### Estruturas Condicionais -> If , elif, else"
   ]
  },
  {
   "cell_type": "code",
   "execution_count": null,
   "metadata": {},
   "outputs": [],
   "source": [
    "#Condicional IF\n",
    "if 7 > 5:\n",
    "    print('Essa linha de código é verdadera')"
   ]
  },
  {
   "cell_type": "code",
   "execution_count": null,
   "metadata": {},
   "outputs": [],
   "source": [
    "# Condicional IF...Else\n",
    "if 7 < 2:\n",
    "    print(\"A sentença é verdadeira!\")\n",
    "else:\n",
    "    print(\"A sentença é falsa!\")"
   ]
  },
  {
   "cell_type": "code",
   "execution_count": null,
   "metadata": {},
   "outputs": [],
   "source": [
    "# Condicional If...Else com variável\n",
    "\n",
    "#Sinal de igual (=) é ATRIBUIÇÃO. Ou seja, estamos atribuindo a string \"Terça\" à variável dia.\n",
    "dia = \"Terça\" \n",
    "\n",
    "# Dois sinais de igual (==) é IGUALDADE. Ou seja, estamos perguntando se a variável dia é igual a \"Segunda\"\n",
    "if dia == \"Segunda\": \n",
    "    print(\"Hoje fará sol!\")\n",
    "else:\n",
    "    print(\"Hoje vai chover!\")"
   ]
  },
  {
   "cell_type": "code",
   "execution_count": null,
   "metadata": {},
   "outputs": [],
   "source": [
    "# Podemos usar o operador elif para validar mais de uma condição\n",
    "if dia == \"Segunda\":\n",
    "    print(\"Hoje fará sol!\")\n",
    "elif dia == \"Terça\":\n",
    "    print(\"Hoje vai chover!\")\n",
    "else:\n",
    "    print(\"Sem previsão do tempo para o dia selecionado\")"
   ]
  },
  {
   "cell_type": "markdown",
   "metadata": {},
   "source": [
    "### Operadores Relacionais (<,>,<=,>=)"
   ]
  },
  {
   "cell_type": "code",
   "execution_count": null,
   "metadata": {},
   "outputs": [],
   "source": [
    "6 > 3"
   ]
  },
  {
   "cell_type": "code",
   "execution_count": null,
   "metadata": {},
   "outputs": [],
   "source": [
    "3 > 7"
   ]
  },
  {
   "cell_type": "code",
   "execution_count": null,
   "metadata": {},
   "outputs": [],
   "source": [
    "4 < 8"
   ]
  },
  {
   "cell_type": "code",
   "execution_count": null,
   "metadata": {},
   "outputs": [],
   "source": [
    "4 >= 4"
   ]
  },
  {
   "cell_type": "code",
   "execution_count": null,
   "metadata": {},
   "outputs": [],
   "source": [
    "5 == 5"
   ]
  },
  {
   "cell_type": "code",
   "execution_count": null,
   "metadata": {},
   "outputs": [],
   "source": [
    "if 5 == 5:\n",
    "    print(\"Testando Python!\")"
   ]
  },
  {
   "cell_type": "code",
   "execution_count": null,
   "metadata": {},
   "outputs": [],
   "source": [
    "if True:\n",
    "    print('Parece que Python funciona!')"
   ]
  },
  {
   "cell_type": "markdown",
   "metadata": {},
   "source": [
    "### Vamos treinar um pouco?"
   ]
  },
  {
   "cell_type": "code",
   "execution_count": null,
   "metadata": {},
   "outputs": [],
   "source": [
    "\"\"\"\n",
    "Faça um programa que peça o primeiro nome do usuário. Se o nome tiver 4 letras ou \n",
    "menos escreva \"Seu nome é curto\"; se tiver entre 5 e 6 letras, escreva \n",
    "\"Seu nome é normal\"; maior que 6 escreva \"Seu nome é muito grande\". \n",
    "\n",
    "\"\"\""
   ]
  },
  {
   "cell_type": "markdown",
   "metadata": {},
   "source": [
    "### Resolução"
   ]
  },
  {
   "cell_type": "code",
   "execution_count": null,
   "metadata": {},
   "outputs": [],
   "source": [
    "\n",
    "nome = input(\"Escreva seu primeiro nome: \")\n",
    "num_caractere_nome = len(nome)\n",
    "\n",
    "if num_caractere_nome > 1:\n",
    "    if num_caractere_nome <= 4:\n",
    "        print('Seu nome é curto!')\n",
    "    elif num_caractere_nome >= 5 and num_caractere_nome <= 6:\n",
    "        print('Seu nome é normal')\n",
    "    elif num_caractere_nome > 6:\n",
    "        print('Seu nome é muito grande!')\n",
    "    else:\n",
    "        print('Não reconheci seu nome')\n",
    "else:\n",
    "    print('Digite mais que um caractere')"
   ]
  },
  {
   "cell_type": "markdown",
   "metadata": {},
   "source": [
    "### Operadores lógicos básicos"
   ]
  },
  {
   "cell_type": "code",
   "execution_count": null,
   "metadata": {},
   "outputs": [],
   "source": [
    "idade = 18\n",
    "nome = \"Bob\"\n",
    "if idade > 17:\n",
    "    print(\"Você pode dirigir!\")"
   ]
  },
  {
   "cell_type": "code",
   "execution_count": null,
   "metadata": {},
   "outputs": [],
   "source": [
    "idade = 18\n",
    "if idade > 17 and nome == \"Bob\":\n",
    "    print(\"Autorizado!\")"
   ]
  },
  {
   "cell_type": "markdown",
   "metadata": {},
   "source": [
    "Os operadores lógicos funcionam assim:\n",
    "\n",
    "- Operador **and** - Retorna True se **ambas** as declarações forem verdadeiras.\n",
    "- Operador **or** - Retorna True se **qualquer** uma das declarações for verdadeira.\n",
    "- Operador **not** - **Inverte** o resultado, retorna False se o resultado for True."
   ]
  },
  {
   "cell_type": "code",
   "execution_count": null,
   "metadata": {},
   "outputs": [],
   "source": [
    "# Operador and\n",
    "\n",
    "numero = 4\n",
    "\n",
    "if (numero > 2) and (numero % 2 == 0):\n",
    "    print(\"Isso está sendo impresso porque as duas condições são verdadeiras!\")"
   ]
  },
  {
   "cell_type": "code",
   "execution_count": null,
   "metadata": {},
   "outputs": [],
   "source": [
    "# Operador and\n",
    "\n",
    "numero = 4\n",
    "\n",
    "if (numero > 5) and (numero % 2 == 0):\n",
    "    print(\"Isso está sendo impresso porque as duas condições são verdadeiras!\")\n",
    "else:\n",
    "    print(\"Isso está sendo impresso porque uma das duas condições é falsa!\")"
   ]
  },
  {
   "cell_type": "code",
   "execution_count": null,
   "metadata": {},
   "outputs": [],
   "source": [
    "# Operador or\n",
    "\n",
    "numero = 4\n",
    "\n",
    "if (numero > 5) or (numero % 2 == 0):\n",
    "    print(\"Isso está sendo impresso porque uma duas condições é verdadeira!\")"
   ]
  },
  {
   "cell_type": "code",
   "execution_count": null,
   "metadata": {},
   "outputs": [],
   "source": [
    "# Operador not\n",
    "\n",
    "numero = 4\n",
    "\n",
    "if not(numero > 5) and (numero % 2 == 0):\n",
    "    print(\"Isso está sendo impresso porque as duas condições são verdadeiras!\")\n",
    "else:\n",
    "    print(\"Isso está sendo impresso porque uma das duas condições é falsa!\")"
   ]
  },
  {
   "cell_type": "code",
   "execution_count": null,
   "metadata": {},
   "outputs": [],
   "source": [
    "# Operador and, or e not\n",
    "\n",
    "numero = 4\n",
    "\n",
    "if (not(numero > 5) and (numero % 2 == 0)) or (numero == 4):\n",
    "    print(\"Isso está sendo impresso porque as duas primeiras condições são verdadeiras ou a terceira é verdadeira!\")"
   ]
  },
  {
   "cell_type": "code",
   "execution_count": null,
   "metadata": {},
   "outputs": [],
   "source": [
    "# Exemplo com o uso de variáveis\n",
    "\n",
    "disciplina = 'Data Science'\n",
    "nota_final = 70\n",
    "\n",
    "if disciplina == 'Data Science' and nota_final >= 70:\n",
    "    print('Você foi aprovado!')\n",
    "else:\n",
    "    print('Lamento, acho que você precisa estudar mais!')"
   ]
  },
  {
   "cell_type": "code",
   "execution_count": null,
   "metadata": {},
   "outputs": [],
   "source": [
    "# Usando mais de uma condição na cláusula if \n",
    "\n",
    "disciplina = 'Data Science'\n",
    "nota_final = 60\n",
    "\n",
    "if disciplina == 'Data Science' and nota_final >= 70:\n",
    "    print('Você foi aprovado!')\n",
    "else:\n",
    "    print('Lamento, acho que você precisa estudar mais!')"
   ]
  },
  {
   "cell_type": "code",
   "execution_count": null,
   "metadata": {},
   "outputs": [],
   "source": [
    "# Usando mais de uma condição na cláusula if e introduzindo Placeholders\n",
    "\n",
    "disciplina = 'Data Science'\n",
    "nota_final = 90\n",
    "semestre = 2\n",
    "\n",
    "if disciplina == 'Data Science' and nota_final >= 80 and semestre != 1:\n",
    "    print('Você foi aprovado em %s com média final %r!' %(disciplina, nota_final))\n",
    "else:\n",
    "    print('Lamento, acho que você precisa estudar mais!')"
   ]
  },
  {
   "cell_type": "markdown",
   "metadata": {},
   "source": [
    "### Exercício Desafio (Nível fácil/intermediário)"
   ]
  },
  {
   "cell_type": "code",
   "execution_count": null,
   "metadata": {},
   "outputs": [],
   "source": [
    "'''\n",
    "Faça uma lista de comprar com listas\n",
    "O usuário deve ter a possibilidade de\n",
    "inserir, apagar e listar valores da sua lista\n",
    "não permita que o programa quebre com \n",
    "erros de índices inexistentes na lista\n",
    "Se listar uma lista vazia retornar \"Nada para listar\"\n",
    "Se quiser apagar um índice que não existe retornar \"Não foi possível apagar este índice\"\n",
    "\n",
    "'''"
   ]
  },
  {
   "cell_type": "markdown",
   "metadata": {},
   "source": [
    "### Minha Solução \n",
    "\n",
    "obs: Podemos ter soluções diferentes"
   ]
  },
  {
   "cell_type": "code",
   "execution_count": null,
   "metadata": {},
   "outputs": [],
   "source": [
    "import os\n",
    "lista = []\n",
    "while True:\n",
    "    print('Selecione uma opção')\n",
    "    opcao = input ('[i]nserir [a]pagar [l]istar: ') #dá as opções para o usuário digitar\n",
    "\n",
    "    if opcao == 'i': #se a opção do usuário for 'i':\n",
    "        os.system('clear') #limpar o terminal\n",
    "        valor = input('Valor: ') #qual o valora ser inserido na lista\n",
    "        lista.append(valor) #insere o valor na lista\n",
    "\n",
    "    elif opcao == 'a':\n",
    "        indice_str = input ('Escolha o índice para apagar: ') #escolhendo o índice que queremos apagar\n",
    "        try:\n",
    "            indice = int(indice_str) #convertendo o índice em inteiro\n",
    "            del lista[indice] #deletando o valor da lista em relação ao índice escolhido\n",
    "        except ValueError: #Caso o usuário não escreva um número de índice corretamente\n",
    "            print('Escreva um número inteiro') \n",
    "        except IndexError: #Caso o usuário não escreva um de índice existente\n",
    "            print('Índice não existe na lista') \n",
    "        except Exception: #Caso o usuário bug o programa\n",
    "            print('Erro desconhecido, tente novamente')\n",
    "\n",
    "    elif opcao == 'l':\n",
    "        os.system('clear') #limpar o terminal\n",
    "        for i, valor in enumerate(lista): #listar o que foi preenchido em valor\n",
    "            print(i, valor)\n",
    "\n",
    "    else:\n",
    "        print('Por favor, selecione uma opcão válida.')\n",
    "    "
   ]
  }
 ],
 "metadata": {
  "kernelspec": {
   "display_name": "Python 3",
   "language": "python",
   "name": "python3"
  },
  "language_info": {
   "codemirror_mode": {
    "name": "ipython",
    "version": 3
   },
   "file_extension": ".py",
   "mimetype": "text/x-python",
   "name": "python",
   "nbconvert_exporter": "python",
   "pygments_lexer": "ipython3",
   "version": "3.12.5"
  }
 },
 "nbformat": 4,
 "nbformat_minor": 2
}
