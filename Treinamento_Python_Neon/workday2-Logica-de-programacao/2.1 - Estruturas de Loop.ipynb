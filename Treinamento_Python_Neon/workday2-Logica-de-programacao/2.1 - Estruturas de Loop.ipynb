{
 "cells": [
  {
   "cell_type": "markdown",
   "metadata": {},
   "source": [
    "### Estrutura de Repetição - While"
   ]
  },
  {
   "cell_type": "code",
   "execution_count": null,
   "metadata": {},
   "outputs": [],
   "source": [
    "# Usando o loop while para imprimir os valores de 0 a 9\n",
    "# A condição TEM QUE DEIXAR DE SER VERDADEIRA dentro do loop, senão pode travar o navegador ou mesmo o computador\n",
    "# Se não criamos o chamado While infinito\n",
    "valor = 0\n",
    "while valor < 10:\n",
    "    print(valor)\n",
    "    valor = valor + 1\n",
    "\n",
    "\n",
    "'''\n",
    "Descrevendo o código acima:\n",
    "Atribuímos o número 0 à variável valor. \n",
    "Após isso, lê-se -> Enquanto a variável \"valor\" esteja menor que 10 entraremos no loop While\n",
    "Printamos a variável \"valor\" \n",
    "por fim, somamos 1 à variável valor.\n",
    "'''"
   ]
  },
  {
   "cell_type": "code",
   "execution_count": null,
   "metadata": {},
   "outputs": [],
   "source": [
    "\"Exemplo de loop infinito\"\n",
    "\n",
    "condicao = 2\n",
    "nome = \"andré\"\n",
    "\n",
    "while condicao == 2:\n",
    "    print(f'seu nome é {nome}')\n",
    "    #break   #Se não houver o parâmetro Break será infinito."
   ]
  },
  {
   "cell_type": "code",
   "execution_count": null,
   "metadata": {},
   "outputs": [],
   "source": [
    "# Também é possível usar a claúsula else para encerrar o loop while\n",
    "x = 0\n",
    "\n",
    "while x < 10:\n",
    "    print ('O valor de x nesta iteração é: ', x)\n",
    "    print (' x ainda é menor que 10, somando 1 a x')\n",
    "    x += 1 \n",
    "else:\n",
    "    print ('Loop concluído!')\n",
    "print(x)"
   ]
  },
  {
   "cell_type": "code",
   "execution_count": null,
   "metadata": {},
   "outputs": [],
   "source": [
    "'''\n",
    "Ferramenta para pular determinado dado dentro do while\n",
    "Use a ferramenta continue.\n",
    "Continue é utilizado no while que estiver mais próximo dela.\n",
    "\n",
    "'''\n",
    "\n",
    "contador = 0\n",
    "\n",
    "while contador <=100:\n",
    "    contador += 1\n",
    "\n",
    "    if contador == 6:\n",
    "        print('Não vou mostrar o 6')\n",
    "        continue\n",
    "    \n",
    "    if contador >= 10 and contador <= 30:\n",
    "        #print('Não vou mostrar nada')\n",
    "        continue\n",
    "\n",
    "    print(contador)\n",
    "\n",
    "    if contador == 40:\n",
    "        break\n"
   ]
  },
  {
   "cell_type": "markdown",
   "metadata": {},
   "source": [
    "### Estrutura de Repetição - For"
   ]
  },
  {
   "cell_type": "markdown",
   "metadata": {},
   "source": [
    "\n",
    "O \"for\" é uma estrutura de repetição em Python que permite executar um bloco de código várias vezes, \n",
    "iterando sobre uma sequência de elementos. Ele é muito útil para percorrer listas, dicionários e outros tipos de dados iteráveis\n",
    "\n"
   ]
  },
  {
   "cell_type": "code",
   "execution_count": null,
   "metadata": {},
   "outputs": [],
   "source": [
    "# Criando uma lista e imprimindo cada um dos valores\n",
    "ListaDeStrings = [\"Melancia\", \"André\", \"Garrafa\"]\n",
    "for palavra in ListaDeStrings:\n",
    "    print(palavra)\n",
    "\n",
    "'''\n",
    "Vamos ler o código acima:\n",
    "Atribuimos a variável \"ListaDeStrings\" uma lista de palavras.\n",
    "Após isso, lemos --> Para cada \"palavra\" dentro da lista, printaremos a variável \"palavra\".\n",
    "\n",
    "Dentro da estrutura for temos que criar uma variável (i) para ser atribuída os valores da lista. \n",
    "'''"
   ]
  },
  {
   "cell_type": "code",
   "execution_count": null,
   "metadata": {},
   "outputs": [],
   "source": [
    "# Imprimindo os valores no intervalo entre 0 e 5 (exclusive)\n",
    "for contador in range(0,5):\n",
    "    print(contador)"
   ]
  },
  {
   "cell_type": "code",
   "execution_count": null,
   "metadata": {},
   "outputs": [],
   "source": [
    "# Imprimindo os números pares da lista de números\n",
    "lista = [1,2,3,4,5,6,7,8,9,10]\n",
    "for num in lista:\n",
    "    if num % 2 == 0:\n",
    "        print (num)"
   ]
  },
  {
   "cell_type": "code",
   "execution_count": null,
   "metadata": {},
   "outputs": [],
   "source": [
    "# Listando os números no intervalo entre 0 e 101, com incremento em 2\n",
    "for i in range(0,101,2):  \n",
    "    print(i)"
   ]
  },
  {
   "cell_type": "code",
   "execution_count": null,
   "metadata": {},
   "outputs": [],
   "source": [
    "# Strings também são sequências\n",
    "for caracter in 'Python é uma linguagem de programação divertida!':\n",
    "    print (caracter)"
   ]
  }
 ],
 "metadata": {
  "kernelspec": {
   "display_name": "Python 3",
   "language": "python",
   "name": "python3"
  },
  "language_info": {
   "codemirror_mode": {
    "name": "ipython",
    "version": 3
   },
   "file_extension": ".py",
   "mimetype": "text/x-python",
   "name": "python",
   "nbconvert_exporter": "python",
   "pygments_lexer": "ipython3",
   "version": "3.12.5"
  }
 },
 "nbformat": 4,
 "nbformat_minor": 2
}
