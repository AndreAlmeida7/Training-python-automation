{
 "cells": [
  {
   "cell_type": "markdown",
   "metadata": {},
   "source": [
    "### Exercícios Para debugar um código"
   ]
  },
  {
   "cell_type": "markdown",
   "metadata": {},
   "source": [
    "**O que é debugar um código?**\n",
    "\n",
    "Depurar (ou \"debugar\") o código no Visual Studio Code (VS Code) é o processo de identificar e corrigir erros no código utilizando as funcionalidades de depuração integradas à IDE (Integrated Development Environment). O VS Code oferece ferramentas que permitem configurar pontos de interrupção (breakpoints), inspecionar variáveis em tempo real, passo a passo na execução do código (step over, step into, step out), e avaliar expressões durante a execução do programa."
   ]
  },
  {
   "cell_type": "code",
   "execution_count": null,
   "metadata": {},
   "outputs": [],
   "source": [
    "def acesso_lista(lista, indice):\n",
    "    return lista[indice]\n",
    "\n",
    "# Lista de exemplo\n",
    "minha_lista = [1, 2, 3, 4, 5]\n",
    "\n",
    "# Erro: índice fora do intervalo\n",
    "resultado = acesso_lista(minha_lista, 10)  # Debug necessário aqui\n",
    "print(resultado)"
   ]
  },
  {
   "cell_type": "code",
   "execution_count": null,
   "metadata": {},
   "outputs": [],
   "source": [
    "def divisao(numerador, denominador):\n",
    "    return numerador / denominador\n",
    "\n",
    "# Variáveis de exemplo\n",
    "numerador = 10\n",
    "denominador = 0  # Debug necessário aqui\n",
    "\n",
    "# Erro: divisão por zero\n",
    "resultado = divisao(numerador, denominador)\n",
    "print(resultado)"
   ]
  },
  {
   "cell_type": "code",
   "execution_count": null,
   "metadata": {},
   "outputs": [],
   "source": [
    "def verifica_idade(idade):\n",
    "    if idade > 18:\n",
    "        return \"Você é menor de idade.\"\n",
    "    else:\n",
    "        return \"Você é maior de idade.\"\n",
    "\n",
    "# Idade de exemplo\n",
    "idade = 20  # Debug necessário aqui\n",
    "\n",
    "# Erro: lógica incorreta\n",
    "resultado = verifica_idade(idade)\n",
    "print(resultado)"
   ]
  },
  {
   "cell_type": "code",
   "execution_count": null,
   "metadata": {},
   "outputs": [],
   "source": [
    "def soma_numeros(a, b):\n",
    "    return a + b\n",
    "\n",
    "# Variáveis de exemplo\n",
    "num1 = 5\n",
    "num2 = \"10\"  # Debug necessário aqui\n",
    "\n",
    "# Erro: soma de inteiro com string\n",
    "resultado = soma_numeros(num1, num2)\n",
    "print(resultado)"
   ]
  }
 ],
 "metadata": {
  "language_info": {
   "name": "python"
  }
 },
 "nbformat": 4,
 "nbformat_minor": 2
}
