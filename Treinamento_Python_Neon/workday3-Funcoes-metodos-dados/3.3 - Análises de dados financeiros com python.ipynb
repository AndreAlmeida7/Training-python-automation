{
 "cells": [
  {
   "cell_type": "markdown",
   "metadata": {},
   "source": [
    "## Pacotes Python Usados no Projeto"
   ]
  },
  {
   "cell_type": "code",
   "execution_count": 1,
   "metadata": {},
   "outputs": [],
   "source": [
    "# Imports\n",
    "import pandas as pd\n",
    "import numpy as np\n",
    "import matplotlib.pyplot as plt\n",
    "import seaborn as sns\n",
    "import warnings\n",
    "warnings.filterwarnings(\"ignore\")"
   ]
  },
  {
   "cell_type": "markdown",
   "metadata": {},
   "source": [
    "## Carregando os Dados"
   ]
  },
  {
   "cell_type": "code",
   "execution_count": null,
   "metadata": {},
   "outputs": [],
   "source": [
    "# Carrega o dataset\n",
    "df_dsa = pd.read_csv(\"dataset.csv\") "
   ]
  },
  {
   "cell_type": "code",
   "execution_count": null,
   "metadata": {},
   "outputs": [],
   "source": [
    "# Shape\n",
    "df_dsa.shape"
   ]
  },
  {
   "cell_type": "code",
   "execution_count": null,
   "metadata": {},
   "outputs": [],
   "source": [
    "# Amostra\n",
    "df_dsa.head()"
   ]
  },
  {
   "cell_type": "code",
   "execution_count": null,
   "metadata": {},
   "outputs": [],
   "source": [
    "# Colunas\n",
    "df_dsa.columns"
   ]
  },
  {
   "cell_type": "markdown",
   "metadata": {},
   "source": [
    "## Análise Exploratória Antes da Limpeza"
   ]
  },
  {
   "cell_type": "code",
   "execution_count": null,
   "metadata": {},
   "outputs": [],
   "source": [
    "# Info\n",
    "df_dsa.info()"
   ]
  },
  {
   "cell_type": "code",
   "execution_count": null,
   "metadata": {},
   "outputs": [],
   "source": [
    "# Há valore ausentes? Sim ou Não?\n",
    "df_dsa.isna().any()"
   ]
  },
  {
   "cell_type": "code",
   "execution_count": null,
   "metadata": {},
   "outputs": [],
   "source": [
    "# Há valore ausentes? Quantos?\n",
    "df_dsa.isna().sum()"
   ]
  },
  {
   "cell_type": "code",
   "execution_count": null,
   "metadata": {},
   "outputs": [],
   "source": [
    "# Calculando a soma dos valores ausentes por coluna\n",
    "valores_ausentes = df_dsa.isna().sum()\n",
    "\n",
    "# Calculando o número total de linhas\n",
    "total_linhas = len(df_dsa)\n",
    "\n",
    "# Calculando a proporção de valores ausentes por coluna\n",
    "proporcao_valores_ausentes = (valores_ausentes / total_linhas)*100\n",
    "\n",
    "# Exibindo a proporção em % de valores ausentes\n",
    "print(proporcao_valores_ausentes)"
   ]
  },
  {
   "cell_type": "markdown",
   "metadata": {},
   "source": [
    "### Visualizações"
   ]
  },
  {
   "cell_type": "markdown",
   "metadata": {},
   "source": [
    "<!-- Projeto Desenvolvido na Data Science Academy - www.datascienceacademy.com.br -->\n",
    "\n",
    "**Distribuição dos Valores dos Lançamentos**: Histograma que mostra a distribuição dos valores monetários dos lançamentos. A linha de densidade (KDE) ajuda a entender a forma da distribuição."
   ]
  },
  {
   "cell_type": "code",
   "execution_count": null,
   "metadata": {},
   "outputs": [],
   "source": [
    "# Gráfico 1: Distribuição dos valores dos lançamentos\n",
    "plt.figure(figsize = (10, 5))\n",
    "sns.histplot(df_dsa['valor'], kde = True, bins = 30)\n",
    "plt.title('Distribuição dos Valores dos Lançamentos')\n",
    "plt.xlabel('Valor')\n",
    "plt.ylabel('Frequência')\n",
    "plt.show()"
   ]
  },
  {
   "cell_type": "markdown",
   "metadata": {},
   "source": [
    "**Valores dos Lançamentos ao Longo do Tempo**: Um gráfico de linhas que exibe como os valores dos lançamentos variaram ao longo do tempo. Isso pode ajudar a identificar tendências ou padrões sazonais nos dados."
   ]
  },
  {
   "cell_type": "code",
   "execution_count": null,
   "metadata": {},
   "outputs": [],
   "source": [
    "# Gráfico 2: Valores dos lançamentos ao longo do tempo\n",
    "plt.figure(figsize = (12, 5))\n",
    "df_dsa['data_lancamento'] = pd.to_datetime(df_dsa['data_lancamento'])\n",
    "sns.lineplot(x = 'data_lancamento', y = 'valor', data = df_dsa)\n",
    "plt.title('Valores dos Lançamentos ao Longo do Tempo')\n",
    "plt.xlabel('Data do Lançamento')\n",
    "plt.ylabel('Valor')\n",
    "plt.xticks(rotation = 45)\n",
    "plt.show()"
   ]
  },
  {
   "cell_type": "markdown",
   "metadata": {},
   "source": [
    "**Boxplot dos Impostos**: Este boxplot fornece uma visão sobre a distribuição dos valores dos impostos, destacando a mediana, quartis e possíveis outliers."
   ]
  },
  {
   "cell_type": "code",
   "execution_count": null,
   "metadata": {},
   "outputs": [],
   "source": [
    "# Gráfico 3: Boxplot dos impostos\n",
    "plt.figure(figsize = (8, 5))\n",
    "sns.boxplot(x = df_dsa['impostos'])\n",
    "plt.title('Boxplot dos Impostos')\n",
    "plt.xlabel('Impostos')\n",
    "plt.show()"
   ]
  },
  {
   "cell_type": "markdown",
   "metadata": {},
   "source": [
    "**Contagem de Operações por Moeda**: Um gráfico de barras mostrando o número de operações realizadas em diferentes moedas. Isso pode ser útil para entender a predominância de certas moedas nas operações."
   ]
  },
  {
   "cell_type": "code",
   "execution_count": null,
   "metadata": {},
   "outputs": [],
   "source": [
    "# Gráfico 4: Contagem de operações por moeda\n",
    "plt.figure(figsize = (6, 4))\n",
    "sns.countplot(x = 'moeda', data = df_dsa)\n",
    "plt.title('Contagem de Operações por Moeda')\n",
    "plt.xlabel('Moeda')\n",
    "plt.ylabel('Contagem')\n",
    "plt.show()"
   ]
  },
  {
   "cell_type": "markdown",
   "metadata": {},
   "source": [
    "## Tratamento de Valores Ausentes"
   ]
  },
  {
   "cell_type": "markdown",
   "metadata": {},
   "source": [
    "**1. Tratamento de Valores Ausentes Para Variável Numérica**\n",
    "\n",
    "Para variáveis numéricas, como 'valor' ou 'impostos', uma abordagem comum é substituir os valores ausentes pela média ou mediana da coluna. A escolha entre média ou mediana geralmente depende da distribuição dos dados."
   ]
  },
  {
   "cell_type": "code",
   "execution_count": null,
   "metadata": {},
   "outputs": [],
   "source": [
    "# Há valores ausentes?\n",
    "df_dsa['impostos'].isna().sum()"
   ]
  },
  {
   "cell_type": "code",
   "execution_count": null,
   "metadata": {},
   "outputs": [],
   "source": [
    "# Distribuição dos valores dos impostos\n",
    "plt.figure(figsize = (10, 5))\n",
    "sns.histplot(df_dsa['impostos'], kde = True, bins = 30)\n",
    "plt.title('Distribuição dos Valores dos Impostos')\n",
    "plt.xlabel('Valor')\n",
    "plt.ylabel('Frequência')\n",
    "plt.show()"
   ]
  },
  {
   "cell_type": "code",
   "execution_count": null,
   "metadata": {},
   "outputs": [],
   "source": [
    "# Média\n",
    "df_dsa['impostos'].mean()"
   ]
  },
  {
   "cell_type": "code",
   "execution_count": null,
   "metadata": {},
   "outputs": [],
   "source": [
    "# Mediana\n",
    "df_dsa['impostos'].median()"
   ]
  },
  {
   "cell_type": "code",
   "execution_count": null,
   "metadata": {},
   "outputs": [],
   "source": [
    "# Substituindo valores ausentes em 'impostos' pela mediana\n",
    "df_dsa['impostos'].fillna(df_dsa['impostos'].median(), inplace = True)"
   ]
  },
  {
   "cell_type": "code",
   "execution_count": null,
   "metadata": {},
   "outputs": [],
   "source": [
    "# Há valores ausentes?\n",
    "df_dsa['impostos'].isna().sum()"
   ]
  },
  {
   "cell_type": "markdown",
   "metadata": {},
   "source": [
    "<!-- Projeto Desenvolvido na Data Science Academy - www.datascienceacademy.com.br -->\n",
    "**2. Tratamento de Valores Ausentes Para Variável Categórica**\n",
    "\n",
    "Para variáveis categóricas, como 'moeda', você pode substituir os valores ausentes pelo valor mais frequente (moda) ou categorizar como 'Desconhecido'."
   ]
  },
  {
   "cell_type": "code",
   "execution_count": null,
   "metadata": {},
   "outputs": [],
   "source": [
    "# Há valore ausentes? Quantos?\n",
    "df_dsa.isna().sum()"
   ]
  },
  {
   "cell_type": "code",
   "execution_count": null,
   "metadata": {},
   "outputs": [],
   "source": [
    "# Há valores ausentes?\n",
    "df_dsa['moeda'].isna().sum()"
   ]
  },
  {
   "cell_type": "code",
   "execution_count": null,
   "metadata": {},
   "outputs": [],
   "source": [
    "# Calcula a moda\n",
    "df_dsa['moeda'].mode()[0]"
   ]
  },
  {
   "cell_type": "code",
   "execution_count": null,
   "metadata": {},
   "outputs": [],
   "source": [
    "# Substituindo valores ausentes em 'moeda' pela moda\n",
    "df_dsa['moeda'].fillna(df_dsa['moeda'].mode()[0], inplace = True)"
   ]
  },
  {
   "cell_type": "code",
   "execution_count": null,
   "metadata": {},
   "outputs": [],
   "source": [
    "# Há valores ausentes?\n",
    "df_dsa['moeda'].isna().sum()"
   ]
  },
  {
   "cell_type": "code",
   "execution_count": null,
   "metadata": {},
   "outputs": [],
   "source": [
    "# Há valores ausentes?\n",
    "df_dsa.isna().sum()"
   ]
  },
  {
   "cell_type": "code",
   "execution_count": null,
   "metadata": {},
   "outputs": [],
   "source": [
    "# Calculando a soma dos valores ausentes por coluna\n",
    "valores_ausentes = df_dsa.isna().sum()\n",
    "\n",
    "# Calculando o número total de linhas\n",
    "total_linhas = len(df_dsa)\n",
    "\n",
    "# Calculando a proporção de valores ausentes por coluna\n",
    "proporcao_valores_ausentes = valores_ausentes / total_linhas\n",
    "\n",
    "# Exibindo a proporção de valores ausentes\n",
    "print(proporcao_valores_ausentes)"
   ]
  },
  {
   "cell_type": "code",
   "execution_count": null,
   "metadata": {},
   "outputs": [],
   "source": [
    "# Preenchendo valores ausentes em 'taxa_conversao' com a categoria 'Outro'\n",
    "df_dsa['taxa_conversao'].fillna('Outro', inplace = True)"
   ]
  },
  {
   "cell_type": "code",
   "execution_count": null,
   "metadata": {},
   "outputs": [],
   "source": [
    "# Preenchendo valores ausentes em 'documento' com a categoria 'Outro'\n",
    "df_dsa['documento'].fillna('Outro', inplace = True)"
   ]
  },
  {
   "cell_type": "code",
   "execution_count": null,
   "metadata": {},
   "outputs": [],
   "source": [
    "# Preenchendo valores ausentes em 'natureza_operacao' com bfill\n",
    "# Este método preenche cada valor ausente com o valor imediatamente posterior na mesma coluna (andamos par atrás)\n",
    "df_dsa['natureza_operacao'].fillna(method = 'bfill', inplace = True)"
   ]
  },
  {
   "cell_type": "code",
   "execution_count": null,
   "metadata": {},
   "outputs": [],
   "source": [
    "df_dsa.head()"
   ]
  },
  {
   "cell_type": "markdown",
   "metadata": {},
   "source": [
    "**3. Tratamento de Valores Ausentes Quando Não Parece Valor Ausente**\n",
    "\n",
    "Às vezes, os valores ausentes podem estar disfarçados com marcadores como 'N/A', '?', 'Desconhecido', ou até '0' em contextos onde '0' não é um valor válido. Identifique esses casos e trate-os como valores ausentes."
   ]
  },
  {
   "cell_type": "code",
   "execution_count": null,
   "metadata": {},
   "outputs": [],
   "source": [
    "# Verificando se há o caracter '?' na coluna conta_credito (Método 1)\n",
    "tem_valor_pergunta = df_dsa['conta_credito'].isin(['?']).any()\n",
    "print(tem_valor_pergunta)"
   ]
  },
  {
   "cell_type": "code",
   "execution_count": null,
   "metadata": {},
   "outputs": [],
   "source": [
    "# Contando a frequência de cada valor na coluna (Método 2)\n",
    "contagem_valores = df_dsa['conta_credito'].value_counts()\n",
    "\n",
    "# Verificando se '?' está na contagem e obtendo seu número de ocorrências\n",
    "numero_ocorrencias_pergunta = contagem_valores.get('?', 0)\n",
    "\n",
    "# Imprime o número de ocorrências de '?'\n",
    "print(numero_ocorrencias_pergunta)"
   ]
  },
  {
   "cell_type": "code",
   "execution_count": null,
   "metadata": {},
   "outputs": [],
   "source": [
    "# Identificar colunas categóricas (Método 3)\n",
    "colunas_categoricas = df_dsa.select_dtypes(include = ['object', 'category']).columns\n",
    "\n",
    "# Verificar a presença do valor \"?\" em cada coluna categórica\n",
    "for coluna in colunas_categoricas:\n",
    "    tem_valor_pergunta = df_dsa[coluna].isin(['?']).any()\n",
    "    print(f\"A coluna '{coluna}' contém '?'? {tem_valor_pergunta}\")"
   ]
  },
  {
   "cell_type": "code",
   "execution_count": null,
   "metadata": {},
   "outputs": [],
   "source": [
    "# Substituindo '?' por NaN e depois preenchendo os valores ausentes\n",
    "df_dsa['conta_credito'].replace('?', np.nan, inplace = True)\n",
    "\n",
    "# Este método preenche cada valor ausente com o valor imediatamente anterior na mesma coluna (andamos par frente)\n",
    "df_dsa['conta_credito'].fillna(method = 'ffill', inplace = True)"
   ]
  },
  {
   "cell_type": "code",
   "execution_count": null,
   "metadata": {},
   "outputs": [],
   "source": [
    "# Há valores ausentes?\n",
    "df_dsa['conta_credito'].isna().sum()"
   ]
  },
  {
   "cell_type": "code",
   "execution_count": null,
   "metadata": {},
   "outputs": [],
   "source": [
    "# Há valores ausentes?\n",
    "df_dsa.isna().sum()"
   ]
  }
 ],
 "metadata": {
  "kernelspec": {
   "display_name": "Python 3 (ipykernel)",
   "language": "python",
   "name": "python3"
  },
  "language_info": {
   "codemirror_mode": {
    "name": "ipython",
    "version": 3
   },
   "file_extension": ".py",
   "mimetype": "text/x-python",
   "name": "python",
   "nbconvert_exporter": "python",
   "pygments_lexer": "ipython3",
   "version": "3.12.5"
  }
 },
 "nbformat": 4,
 "nbformat_minor": 2
}
