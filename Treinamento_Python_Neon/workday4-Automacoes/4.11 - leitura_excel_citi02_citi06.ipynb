{
 "cells": [
  {
   "cell_type": "code",
   "execution_count": 52,
   "metadata": {},
   "outputs": [
    {
     "name": "stdout",
     "output_type": "stream",
     "text": [
      "Arquivos CSV e XLSX gerados com sucesso.\n"
     ]
    }
   ],
   "source": [
    "import pandas as pd\n",
    "import os\n",
    "\n",
    "# Defina o caminho do arquivo de entrada e o nome do arquivo de saída\n",
    "diretorio_arquivo = r'C:\\Users\\U003659\\Desktop'\n",
    "output_path_xlsx = r'C:\\Users\\U003659\\Desktop\\Extrato_citi_02.xlsx'\n",
    "\n",
    "#Percorre todos os arquivos na pasta especificada\n",
    "for name_file in os.listdir(diretorio_arquivo):\n",
    "    # Se o nome do arquivo for pdf e 'Citi 02' está no nome do arquivo, fará a leitura do arquivo especificado\n",
    "    if name_file.endswith('.xls') and 'Citi 02' in name_file:\n",
    "        df = pd.read_excel(os.path.join(diretorio_arquivo, name_file), sheet_name='Sheet2', header=18, usecols=\"A:G\") # Carregue a planilha \"sheet2\" a partir da linha 19 e da coluna A até a coluna \n",
    "\n",
    "if df['Período de Data de Entrada'].str.contains('CONTA SEM ATIVIDADE').any(): # Verifica se o arquivo possui movimentação.\n",
    "    print('Arquivo sem movimentação')\n",
    "else:\n",
    "\n",
    "    # Remova as linhas a partir de \"CRITÉRIO DE SELEÇÃO\" na coluna A\n",
    "    index_to_drop = df[df.iloc[:, 0] == 'CRITÉRIO DE SELEÇÃO'].index\n",
    "\n",
    "    if not index_to_drop.empty:\n",
    "        df = df.loc[:index_to_drop[0]-1]  # Mantém as linhas até a linha anterior a \"CRITÉRIO DE SELEÇÃO\"\n",
    "\n",
    "    # Converta a coluna \"Período de Data de Entrada\" para o formato desejado \"dd/MM/yyyy\"\n",
    "    df['Período de Data de Entrada'] = pd.to_datetime(df['Período de Data de Entrada'], format='%m/%d/%Y').dt.strftime('%d/%m/%Y')\n",
    "\n",
    "    # Adicione lógica para criar a coluna \"Débito\" com base nos valores da coluna \"Valor da Transação\"\n",
    "    df['Débito'] = df['Valor da Transação'].apply(lambda x: x if x < 0 else 0)\n",
    "\n",
    "    # Preencha a coluna \"Valor da Transação\" com 0 para valores negativos\n",
    "    df['Valor da Transação'] = df['Valor da Transação'].apply(lambda x: 0 if x < 0 else x)\n",
    "\n",
    "    # Salve o dataframe em formato XLSX\n",
    "    df.to_excel(output_path_xlsx, index=False)\n",
    "    print(\"Arquivos CSV e XLSX gerados com sucesso.\")\n",
    "\n"
   ]
  },
  {
   "cell_type": "code",
   "execution_count": 56,
   "metadata": {},
   "outputs": [
    {
     "name": "stdout",
     "output_type": "stream",
     "text": [
      "Arquivos CSV e XLSX gerados com sucesso.\n"
     ]
    }
   ],
   "source": [
    "import pandas as pd\n",
    "import os\n",
    "\n",
    "# Defina o caminho do arquivo de entrada e o nome do arquivo de saída\n",
    "diretorio_arquivo = r'C:\\Users\\U003659\\Desktop'\n",
    "output_path_xlsx = r'C:\\Users\\U003659\\Desktop\\Extrato_citi_06.xlsx'\n",
    "\n",
    "#Percorre todos os arquivos na pasta especificada\n",
    "for name_file in os.listdir(diretorio_arquivo):\n",
    "    # Se o nome do arquivo for pdf e 'Citi 06' está no nome do arquivo, fará a leitura do arquivo especificado\n",
    "    if name_file.endswith('.xls') and 'Citi 06' in name_file:\n",
    "        df = pd.read_excel(os.path.join(diretorio_arquivo, name_file), sheet_name='Sheet2', header=18, usecols=\"A:G\") # Carregue a planilha \"sheet2\" a partir da linha 19 e da coluna A até a coluna \n",
    "\n",
    "if df['Período de Data de Entrada'].str.contains('CONTA SEM ATIVIDADE').any(): # Verifica se o arquivo possui movimentação.\n",
    "    print('Arquivo sem movimentação')\n",
    "else:\n",
    "\n",
    "    # Remova as linhas a partir de \"CRITÉRIO DE SELEÇÃO\" na coluna A\n",
    "    index_to_drop = df[df.iloc[:, 0] == 'CRITÉRIO DE SELEÇÃO'].index\n",
    "\n",
    "    if not index_to_drop.empty:\n",
    "        df = df.loc[:index_to_drop[0]-1]  # Mantém as linhas até a linha anterior a \"CRITÉRIO DE SELEÇÃO\"\n",
    "\n",
    "    # Converta a coluna \"Período de Data de Entrada\" para o formato desejado \"dd/MM/yyyy\"\n",
    "    df['Período de Data de Entrada'] = pd.to_datetime(df['Período de Data de Entrada'], format='%m/%d/%Y').dt.strftime('%d/%m/%Y')\n",
    "\n",
    "    # Adicione lógica para criar a coluna \"Débito\" com base nos valores da coluna \"Valor da Transação\"\n",
    "    df['Débito'] = df['Valor da Transação'].apply(lambda x: x if x < 0 else 0)\n",
    "\n",
    "    # Preencha a coluna \"Valor da Transação\" com 0 para valores negativos\n",
    "    df['Valor da Transação'] = df['Valor da Transação'].apply(lambda x: 0 if x < 0 else x)\n",
    "\n",
    "    # Salve o dataframe em formato XLSX\n",
    "    df.to_excel(output_path_xlsx, index=False)\n",
    "    print(\"Arquivos CSV e XLSX gerados com sucesso.\")\n",
    "\n"
   ]
  }
 ],
 "metadata": {
  "kernelspec": {
   "display_name": "Python 3",
   "language": "python",
   "name": "python3"
  },
  "language_info": {
   "codemirror_mode": {
    "name": "ipython",
    "version": 3
   },
   "file_extension": ".py",
   "mimetype": "text/x-python",
   "name": "python",
   "nbconvert_exporter": "python",
   "pygments_lexer": "ipython3",
   "version": "3.11.2"
  }
 },
 "nbformat": 4,
 "nbformat_minor": 2
}
