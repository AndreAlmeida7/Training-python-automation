{
 "cells": [
  {
   "cell_type": "markdown",
   "metadata": {},
   "source": [
    "### Listas:"
   ]
  },
  {
   "cell_type": "code",
   "execution_count": null,
   "metadata": {},
   "outputs": [],
   "source": [
    "# Criando uma lista\n",
    "lista_1 = [\"arroz, frango, tomate, leite\"]\n",
    "\n",
    "# Criando outra lista\n",
    "lista_2 = [\"arroz\", \"frango\", \"tomate\", \"leite\"]\n",
    "\n",
    "# Criando mais uma lista\n",
    "lista_3 = [23, 100, \"Cientista de Dados\"]\n",
    "\n"
   ]
  },
  {
   "cell_type": "code",
   "execution_count": null,
   "metadata": {},
   "outputs": [],
   "source": [
    "type(lista_1)\n",
    "type(lista_2)\n",
    "type(lista_3)"
   ]
  },
  {
   "cell_type": "code",
   "execution_count": null,
   "metadata": {},
   "outputs": [],
   "source": [
    "print(lista_1)\n",
    "\n",
    "print(lista_2)\n",
    "\n",
    "print(lista_3)"
   ]
  },
  {
   "cell_type": "code",
   "execution_count": null,
   "metadata": {},
   "outputs": [],
   "source": [
    "# Atribuindo cada valor da lista a uma variável.\n",
    "item1 = lista_3[0]\n",
    "item2 = lista_3[1]\n",
    "item3 = lista_3[2]\n",
    "\n",
    "print(item1)\n",
    "print(item2)\n",
    "print(item3)"
   ]
  },
  {
   "cell_type": "code",
   "execution_count": null,
   "metadata": {},
   "outputs": [],
   "source": [
    "# Imprimindo um item da lista\n",
    "lista_2[2]"
   ]
  },
  {
   "cell_type": "code",
   "execution_count": null,
   "metadata": {},
   "outputs": [],
   "source": [
    "# Atualizando um item da lista\n",
    "lista_2[2] = \"chocolate\"\n",
    "\n",
    "print(lista_2)\n",
    "\n",
    "# Deletando um item específico da lista\n",
    "del lista_2[3]\n",
    "\n",
    "print(lista_2)"
   ]
  },
  {
   "cell_type": "code",
   "execution_count": null,
   "metadata": {},
   "outputs": [],
   "source": [
    "#Listas\n",
    "lista_s1 = [34, 32, 56]\n",
    "\n",
    "lista_s2 = [56, 23, 58]\n",
    "\n",
    "# Concatenando listas\n",
    "lista_total = lista_s1 + lista_s2\n",
    "\n",
    "print(lista_total)\n",
    "\n"
   ]
  },
  {
   "cell_type": "code",
   "execution_count": null,
   "metadata": {},
   "outputs": [],
   "source": [
    "# Verificando se o valor 10 pertence a lista\n",
    "print(10 in lista_total)"
   ]
  },
  {
   "cell_type": "code",
   "execution_count": null,
   "metadata": {},
   "outputs": [],
   "source": [
    "#Lista de exemplo\n",
    "\n",
    "list_one = [10, 26, -8.5]\n",
    "\n",
    "#Função de tamanho\n",
    "print(len(list_one))\n",
    "\n",
    "#Função valor máximo da lista\n",
    "print(max(list_one))\n",
    "\n",
    "#Função valor mínimo da lista\n",
    "print(min(list_one))\n",
    "\n",
    "#Função de adicionar um item à lista\n",
    "list_one.append(23)\n",
    "print(list_one)"
   ]
  },
  {
   "cell_type": "code",
   "execution_count": null,
   "metadata": {},
   "outputs": [],
   "source": [
    "#Criando uma lista vazia\n",
    "\n",
    "lista_vazia = []\n"
   ]
  },
  {
   "cell_type": "code",
   "execution_count": null,
   "metadata": {},
   "outputs": [],
   "source": [
    "lista_vazia.append('André')\n",
    "\n",
    "print(lista_vazia)"
   ]
  },
  {
   "cell_type": "code",
   "execution_count": null,
   "metadata": {},
   "outputs": [],
   "source": [
    "#Descobrir o índice do número na lista. Lembrando que em python, índices começam com 0\n",
    "list_one.index(26)"
   ]
  },
  {
   "cell_type": "code",
   "execution_count": null,
   "metadata": {},
   "outputs": [],
   "source": [
    "#Criando uma lista de frutas\n",
    "frutas = ['laranja', 'maçã', 'melancia', 'banana']\n",
    "\n",
    "#Função de inserir um dado em uma determinada posição.\n",
    "#Exemplo: Inserido no indexador 2 a fruta 'uva'\n",
    "frutas.insert(2,'uva')\n",
    "\n",
    "print(frutas)\n",
    "\n",
    "# Remove um item da lista\n",
    "frutas.remove('melancia')\n",
    "\n",
    "print(frutas)"
   ]
  }
 ],
 "metadata": {
  "kernelspec": {
   "display_name": "Python 3",
   "language": "python",
   "name": "python3"
  },
  "language_info": {
   "codemirror_mode": {
    "name": "ipython",
    "version": 3
   },
   "file_extension": ".py",
   "mimetype": "text/x-python",
   "name": "python",
   "nbconvert_exporter": "python",
   "pygments_lexer": "ipython3",
   "version": "3.12.5"
  }
 },
 "nbformat": 4,
 "nbformat_minor": 2
}
