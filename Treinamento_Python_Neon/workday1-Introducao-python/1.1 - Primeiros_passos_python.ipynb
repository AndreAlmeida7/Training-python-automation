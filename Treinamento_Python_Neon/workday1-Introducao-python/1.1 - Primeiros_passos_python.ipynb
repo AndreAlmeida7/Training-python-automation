{
 "cells": [
  {
   "cell_type": "markdown",
   "metadata": {},
   "source": [
    "## Mas afinal, como aprender programação?"
   ]
  },
  {
   "cell_type": "markdown",
   "metadata": {},
   "source": [
    "\n",
    "--> Simples, entendendo como funciona a lógica de programação e tentando aplicar em seu dia a dia.\n",
    "\n",
    "O conceito de lógica de programação é o conjunto de princípios e técnicas utilizadas para desenvolver algoritmos eficientes e corretos que podem ser usados para resolver problemas computacionais.\n",
    "Já temos um ponto muito importante aqui. RESOLVER PROBLEMAS.\n",
    "\n",
    "Essa é a essência da programação... Resolver problemas. Não basta apenas saber sobre a sintaxe do código e decorar funções. Temos que entender o porquê estamos aprendendo aquilo e aplicar em problemas, para que então o aprendizado acontença."
   ]
  },
  {
   "cell_type": "markdown",
   "metadata": {},
   "source": [
    "Uma boa forma de melhorar sua lógica de programação é o chamado PSEUDOCÓDIGO.\n",
    "\n",
    "Nada mais é que uma \"receita de bolo\", uma notação informal usada para expressar ideia e algoritmos de forma clara e compreensível sem se preocupar com a linguagem de programação."
   ]
  },
  {
   "cell_type": "markdown",
   "metadata": {},
   "source": [
    "#### Sobre Pseudocódigo"
   ]
  },
  {
   "cell_type": "markdown",
   "metadata": {},
   "source": [
    "Um exemplo de Pseudocódigo que podemos utiliza é calcular a área de um triângulo.\n",
    "\n",
    "1. Declare as variáveis base e altura;\n",
    "2. Peça ao usuário para fornecer os valores da base e da altura;\n",
    "3. Calcule a área multiplicando o valor da base pela altura e dividindo por 2;\n",
    "4. Armazene o resultado dentro de uma variável chamada \"Área\";\n",
    "5. Imprima o valor da variável \"Área\".\n",
    "\n",
    "A seguir vamos transformar este pseudocódigo em um código."
   ]
  },
  {
   "cell_type": "markdown",
   "metadata": {},
   "source": [
    "#### Exemplo de Pseudocódigo para calcular a área de um triângulo"
   ]
  },
  {
   "cell_type": "code",
   "execution_count": 6,
   "metadata": {},
   "outputs": [
    {
     "data": {
      "text/plain": [
       "'A área do triângulo é 75.0'"
      ]
     },
     "metadata": {},
     "output_type": "display_data"
    }
   ],
   "source": [
    "# Declarando os valores de base e altura\n",
    "base = float(input('Qual a altura desejada para a base do triângulo?'))\n",
    "altura = float(input('Qual a altura desejada para a altura do triângulo?'))\n",
    "\n",
    "# Calculando a área do triângulo\n",
    "area = ((base)*(altura)) / 2\n",
    "\n",
    "# Imprimindo o valor da área\n",
    "display(f'A área do triângulo é {area}')\n"
   ]
  },
  {
   "cell_type": "markdown",
   "metadata": {},
   "source": [
    "Pseudocódigo para uma calculadora básica (soma, subtração, multiplicação e divisão):\n",
    "\n",
    "1. Peça ao usuário o primeiro número para realizar a operação;\n",
    "2. Peça ao usuário o segundo número para realizar a operação;\n",
    "3. Peça a operação matemática que o usuário deseja calcular;\n",
    "4. Armazene cada um dos pedidos do usuário em variáveis distintas;\n",
    "5. Utilize a operação selecionada e os números armazenados para realizar o cálculo;\n",
    "6. Imprima o resultado para o usuário;"
   ]
  },
  {
   "cell_type": "markdown",
   "metadata": {},
   "source": [
    "#### Exemplo de pseudocódigo para uma calculadora básica"
   ]
  },
  {
   "cell_type": "code",
   "execution_count": 10,
   "metadata": {},
   "outputs": [
    {
     "data": {
      "text/plain": [
       "'O resultado é: 1.0'"
      ]
     },
     "metadata": {},
     "output_type": "display_data"
    }
   ],
   "source": [
    "algarismo_1 = float(input('Digite o primeiro número desejado: '))\n",
    "algarismo_2 = float(input('Digite o segundo número desejado: '))\n",
    "operador_matematico = input('Digite o operador matemático desejado: ')\n",
    "\n",
    "if operador_matematico in ('*', '/', '+', '-'):\n",
    "    if operador_matematico == '+':\n",
    "        resultado = algarismo_1 + algarismo_2\n",
    "    elif operador_matematico == '-':\n",
    "        resultado = algarismo_1 - algarismo_2\n",
    "    elif operador_matematico == '*':\n",
    "        resultado = algarismo_1 * algarismo_2\n",
    "    elif operador_matematico == '/':\n",
    "        resultado = algarismo_1 / algarismo_2\n",
    "\n",
    "    display(f'O resultado é: {resultado}')\n",
    "else:\n",
    "    display('Digite um operador matemático válido')"
   ]
  }
 ],
 "metadata": {
  "kernelspec": {
   "display_name": "Python 3",
   "language": "python",
   "name": "python3"
  },
  "language_info": {
   "codemirror_mode": {
    "name": "ipython",
    "version": 3
   },
   "file_extension": ".py",
   "mimetype": "text/x-python",
   "name": "python",
   "nbconvert_exporter": "python",
   "pygments_lexer": "ipython3",
   "version": "3.12.5"
  }
 },
 "nbformat": 4,
 "nbformat_minor": 2
}
