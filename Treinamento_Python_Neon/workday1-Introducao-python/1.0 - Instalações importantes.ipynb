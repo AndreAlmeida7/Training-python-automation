{
 "cells": [
  {
   "cell_type": "markdown",
   "metadata": {},
   "source": [
    "#### Instalações importantes:"
   ]
  },
  {
   "cell_type": "markdown",
   "metadata": {},
   "source": [
    "As primeiras instalações para começarmos a programar em python são:\n",
    "\n",
    "--> Visual Studio Code;\n",
    "\n",
    "--> Python;\n",
    "\n",
    "--> Bibliotecas;"
   ]
  },
  {
   "cell_type": "markdown",
   "metadata": {},
   "source": [
    "Tanto o VS Code quanto o Python, instalaremos na nossa Central de Software.\n",
    "\n",
    "Já as bibliotecas, iremos instalar no nosso Prompt de comando (CMD).\n",
    "\n",
    "Para acesso ao Prompt de comando em sua máquina, basta apertar a tecla \"Windows\" + \"r\" e digitar \"cmd\""
   ]
  },
  {
   "cell_type": "markdown",
   "metadata": {},
   "source": [
    "#### Bibliotecas Importantes"
   ]
  },
  {
   "cell_type": "markdown",
   "metadata": {},
   "source": [
    "\n",
    "\n",
    "Iremos instalar algumas bibliotecas que serão interessantes para o nosso estudo e dia a dia em automações. \n",
    "\n",
    "Ao longo do seu aprendizado poderemos instalar mais algumas. \n",
    "\n",
    "O comando para instalação de bibliotecas é: \"Pip install biblioteca_desejada\"\n",
    "\n",
    "Faremos as instalações dessas bibliotecas:\n",
    "\n",
    "-> pip install pandas\n",
    "\n",
    "-> pip instal openpyxl\n",
    "\n",
    "-> pip install dash\n",
    "\n",
    "-> pip install matplotlib\n",
    "\n",
    "-> pip install numpy\n",
    "\n",
    "-> pip install shutil\n",
    "\n",
    "-> pip install datetime\n",
    "\n",
    "-> pip install tabula-py\n",
    "\n",
    "-> pip install PyPDF2\n"
   ]
  },
  {
   "cell_type": "markdown",
   "metadata": {},
   "source": [
    "### Já no Visual Studio Code, faremos algumas instalações também."
   ]
  },
  {
   "cell_type": "markdown",
   "metadata": {},
   "source": [
    "\n",
    "\n",
    "No canto esquerdo da tela temos uma barra com 6 ícones. \n",
    "\n",
    "Vamos no ícone dos quadrados, chamado \"Extensões\".\n",
    "\n",
    "Neste ícone instalaremos:\n",
    "\n",
    "--> Jupyter\n",
    "\n",
    "--> Python\n",
    "\n",
    "--> Portuguese (Brazil) {OPCIONAL}"
   ]
  },
  {
   "cell_type": "markdown",
   "metadata": {},
   "source": [
    "Com isso finalizamos nossa primeira parte do treinamento, preparando nosso ambiente de trabalho.\n"
   ]
  }
 ],
 "metadata": {
  "language_info": {
   "name": "python"
  }
 },
 "nbformat": 4,
 "nbformat_minor": 2
}
